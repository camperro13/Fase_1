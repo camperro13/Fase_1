{
  "nbformat": 4,
  "nbformat_minor": 0,
  "metadata": {
    "colab": {
      "provenance": [],
      "authorship_tag": "ABX9TyOFjDj+Lt696XhxOD8w4x6s",
      "include_colab_link": true
    },
    "kernelspec": {
      "name": "python3",
      "display_name": "Python 3"
    },
    "language_info": {
      "name": "python"
    }
  },
  "cells": [
    {
      "cell_type": "markdown",
      "metadata": {
        "id": "view-in-github",
        "colab_type": "text"
      },
      "source": [
        "<a href=\"https://colab.research.google.com/github/camperro13/Fase_1/blob/JonathanPuga/Fase1_DSV_v6.ipynb\" target=\"_parent\"><img src=\"https://colab.research.google.com/assets/colab-badge.svg\" alt=\"Open In Colab\"/></a>"
      ]
    },
    {
      "cell_type": "markdown",
      "source": [
        "#Instalacion de Librerias\n",
        "Agregar a instalacion general de librerias"
      ],
      "metadata": {
        "id": "iPE6ebSuJ4mU"
      }
    },
    {
      "cell_type": "code",
      "execution_count": 16,
      "metadata": {
        "id": "g4x0YBp_FmpL"
      },
      "outputs": [],
      "source": [
        "!pip install numpy pandas ipykernel matplotlib seaborn dvc[all] --quiet\n",
        "!pip install 'dvc[gdrive]' --quiet\n",
        "import pandas as pd"
      ]
    },
    {
      "cell_type": "markdown",
      "source": [
        "# Obtencion de datos\n",
        "Esta parte se puede omitir cuando el codigo ya tiene los datos, en este caso los datos se tendran que guardar en la dataframe llamada \"Data\""
      ],
      "metadata": {
        "id": "n6WkR6XbKDzV"
      }
    },
    {
      "cell_type": "code",
      "source": [
        "from google.colab import drive\n",
        "drive.mount('/content/drive')"
      ],
      "metadata": {
        "colab": {
          "base_uri": "https://localhost:8080/"
        },
        "id": "ZJKPu1y4GZNI",
        "outputId": "46766073-84f3-48d4-cc4a-7b871995889e"
      },
      "execution_count": 17,
      "outputs": [
        {
          "output_type": "stream",
          "name": "stdout",
          "text": [
            "Drive already mounted at /content/drive; to attempt to forcibly remount, call drive.mount(\"/content/drive\", force_remount=True).\n"
          ]
        }
      ]
    },
    {
      "cell_type": "code",
      "source": [
        "\n",
        "data = pd.read_excel('/content/drive/MyDrive/Colab Notebooks/MNA/Operaciones de aprendizaje automático/Fase 1/Fase1DVC/Residential-Building-Data-Set.xlsx')\n",
        "\n",
        "\n"
      ],
      "metadata": {
        "id": "O9imvrMLGNKC"
      },
      "execution_count": 18,
      "outputs": []
    },
    {
      "cell_type": "markdown",
      "source": [
        "# Class Inicializacion de DVC (Solo se hace una vez)"
      ],
      "metadata": {
        "id": "jv0kgXHmKXyR"
      }
    },
    {
      "cell_type": "code",
      "source": [
        "# Save it as a CSV file\n",
        "data.to_csv('data.csv', index=False)\n",
        "\n",
        "# Initialize a Git repository\n",
        "!git init\n"
      ],
      "metadata": {
        "colab": {
          "base_uri": "https://localhost:8080/"
        },
        "id": "Km-3vXhtGEDi",
        "outputId": "795fedb6-a879-4fa9-bb0c-c20a1e7a0737"
      },
      "execution_count": 19,
      "outputs": [
        {
          "output_type": "stream",
          "name": "stdout",
          "text": [
            "Reinitialized existing Git repository in /content/.git/\n"
          ]
        }
      ]
    },
    {
      "cell_type": "code",
      "source": [
        "!dvc init -f"
      ],
      "metadata": {
        "colab": {
          "base_uri": "https://localhost:8080/"
        },
        "id": "Rvq261zuHUGI",
        "outputId": "3ffd0ac9-7191-471c-fc5e-cc79c4aad615"
      },
      "execution_count": 22,
      "outputs": [
        {
          "output_type": "stream",
          "name": "stdout",
          "text": [
            "Initialized DVC repository.\n",
            "\n",
            "You can now commit the changes to git.\n",
            "\n",
            "\u001b[31m+---------------------------------------------------------------------+\n",
            "\u001b[0m\u001b[31m|\u001b[0m                                                                     \u001b[31m|\u001b[0m\n",
            "\u001b[31m|\u001b[0m        DVC has enabled anonymous aggregate usage analytics.         \u001b[31m|\u001b[0m\n",
            "\u001b[31m|\u001b[0m     Read the analytics documentation (and how to opt-out) here:     \u001b[31m|\u001b[0m\n",
            "\u001b[31m|\u001b[0m             <\u001b[36mhttps://dvc.org/doc/user-guide/analytics\u001b[39m>              \u001b[31m|\u001b[0m\n",
            "\u001b[31m|\u001b[0m                                                                     \u001b[31m|\u001b[0m\n",
            "\u001b[31m+---------------------------------------------------------------------+\n",
            "\u001b[0m\n",
            "\u001b[33mWhat's next?\u001b[39m\n",
            "\u001b[33m------------\u001b[39m\n",
            "- Check out the documentation: <\u001b[36mhttps://dvc.org/doc\u001b[39m>\n",
            "- Get help and share ideas: <\u001b[36mhttps://dvc.org/chat\u001b[39m>\n",
            "- Star us on GitHub: <\u001b[36mhttps://github.com/iterative/dvc\u001b[39m>\n",
            "\u001b[0m"
          ]
        }
      ]
    },
    {
      "cell_type": "code",
      "source": [
        "!dvc add data.csv\n",
        "!git add data.csv.dvc .gitignore\n",
        "!git commit -m \"Add data with DVC\""
      ],
      "metadata": {
        "colab": {
          "base_uri": "https://localhost:8080/"
        },
        "id": "1870wxM2HG6J",
        "outputId": "41d112ea-d43b-4978-91b9-b342757f7b6c"
      },
      "execution_count": 23,
      "outputs": [
        {
          "output_type": "stream",
          "name": "stdout",
          "text": [
            "\u001b[?25l\u001b[32m⠋\u001b[0m Checking graph\n",
            "Adding...:   0% 0/1 [00:00<?, ?file/s{'info': ''}]\n",
            "!\u001b[A\n",
            "          |0.00 [00:00,     ?file/s]\u001b[A\n",
            "                                    \u001b[A\n",
            "!\u001b[A\n",
            "  0% |          |0/? [00:00<?,    ?files/s]\u001b[A\n",
            "                                           \u001b[A\n",
            "Adding data.csv to cache:   0% 0/1 [00:00<?, ?file/s]\u001b[A\n",
            "Adding data.csv to cache:   0% 0/1 [00:00<?, ?file/s{'info': ''}]\u001b[A\n",
            "                                                                 \u001b[A\n",
            "Checking out /content/data.csv:   0% 0/1 [00:00<?, ?files/s]\u001b[A\n",
            "Checking out /content/data.csv:   0% 0/1 [00:00<?, ?files/s{'info': ''}]\u001b[A\n",
            "Adding...: 100% 1/1 [00:00<00:00, 19.01file/s{'info': ''}]\n",
            "\n",
            "To track the changes with git, run:\n",
            "\n",
            "\tgit add data.csv.dvc\n",
            "\n",
            "To enable auto staging, run:\n",
            "\n",
            "\tdvc config core.autostage true\n",
            "\u001b[0mAuthor identity unknown\n",
            "\n",
            "*** Please tell me who you are.\n",
            "\n",
            "Run\n",
            "\n",
            "  git config --global user.email \"you@example.com\"\n",
            "  git config --global user.name \"Your Name\"\n",
            "\n",
            "to set your account's default identity.\n",
            "Omit --global to set the identity only in this repository.\n",
            "\n",
            "fatal: unable to auto-detect email address (got 'root@e99d0023c5de.(none)')\n"
          ]
        }
      ]
    },
    {
      "cell_type": "code",
      "source": [
        "# Create a directory that will act as the local remote storage\n",
        "!mkdir -p ./local_dvc_storage\n",
        "\n",
        "# Configure DVC to use this directory as the remote storage\n",
        "!dvc remote add -d local_remote ./local_dvc_storage\n",
        "\n",
        "# Commit the remote storage configuration to Git\n",
        "!git add .dvc/config\n",
        "!git commit -m \"Set up local directory as remote storage\"\n"
      ],
      "metadata": {
        "colab": {
          "base_uri": "https://localhost:8080/"
        },
        "id": "fdnUMmkNHoRf",
        "outputId": "e472afef-f595-4401-91c3-0a060feb084a"
      },
      "execution_count": 24,
      "outputs": [
        {
          "output_type": "stream",
          "name": "stdout",
          "text": [
            "Setting 'local_remote' as a default remote.\n",
            "\u001b[0mAuthor identity unknown\n",
            "\n",
            "*** Please tell me who you are.\n",
            "\n",
            "Run\n",
            "\n",
            "  git config --global user.email \"you@example.com\"\n",
            "  git config --global user.name \"Your Name\"\n",
            "\n",
            "to set your account's default identity.\n",
            "Omit --global to set the identity only in this repository.\n",
            "\n",
            "fatal: unable to auto-detect email address (got 'root@e99d0023c5de.(none)')\n"
          ]
        }
      ]
    },
    {
      "cell_type": "code",
      "source": [
        "!dvc push\n"
      ],
      "metadata": {
        "colab": {
          "base_uri": "https://localhost:8080/"
        },
        "id": "akNNGWw5JpOx",
        "outputId": "65d9e348-b569-4e42-f8cb-b725419d1069"
      },
      "execution_count": 25,
      "outputs": [
        {
          "output_type": "stream",
          "name": "stdout",
          "text": [
            "Collecting          |1.00 [00:00,  116entry/s]\n",
            "Pushing\n",
            "!\u001b[A\n",
            "  0% |          |0/? [00:00<?,    ?files/s]\u001b[A\n",
            "Pushing\n",
            "Everything is up to date.\n",
            "\u001b[0m"
          ]
        }
      ]
    },
    {
      "cell_type": "markdown",
      "source": [
        "# Class Extraer data"
      ],
      "metadata": {
        "id": "KdBtbMT7LEQd"
      }
    },
    {
      "cell_type": "code",
      "source": [
        "# Remove the dataset and DVC cache\n",
        "!rm -rf data.csv\n",
        "!rm -rf .dvc/cache\n",
        "\n",
        "# Pull the data back from the local remote storage\n",
        "!dvc pull\n"
      ],
      "metadata": {
        "colab": {
          "base_uri": "https://localhost:8080/"
        },
        "id": "smBtY9PjJtHk",
        "outputId": "2272715b-7233-40d0-8176-60ed7a3a507b"
      },
      "execution_count": 26,
      "outputs": [
        {
          "output_type": "stream",
          "name": "stdout",
          "text": [
            "Collecting          |1.00 [00:00, 75.4entry/s]\n",
            "Fetching\n",
            "!\u001b[A\n",
            "  0% |          |0/? [00:00<?,    ?files/s]\u001b[A\n",
            "                                           \u001b[A\n",
            "!\u001b[A\n",
            "  0% |          |0/? [00:00<?,    ?files/s]\u001b[A\n",
            "                                           \u001b[A\n",
            "Fetching from local:   0% 0/1 [00:00<?, ?file/s]\u001b[A\n",
            "Fetching from local:   0% 0/1 [00:00<?, ?file/s{'info': ''}]\u001b[A\n",
            "Fetching\n",
            "Building workspace index          |0.00 [00:00,    ?entry/s]\n",
            "Comparing indexes          |2.00 [00:00,  785entry/s]\n",
            "Applying changes          |1.00 [00:00,   143file/s]\n",
            "\u001b[32mA\u001b[0m       data.csv\n",
            "1 file added and 1 file fetched\n",
            "\u001b[0m"
          ]
        }
      ]
    },
    {
      "cell_type": "markdown",
      "source": [
        "# Class Enviar data"
      ],
      "metadata": {
        "id": "MjvuOBP2LMFA"
      }
    },
    {
      "cell_type": "code",
      "source": [
        "!dvc add data.csv\n",
        "!git add data.csv.dvc\n",
        "!git commit -m \"Modify wine dataset\"\n",
        "!dvc push\n"
      ],
      "metadata": {
        "id": "3keR6mNTJykI",
        "colab": {
          "base_uri": "https://localhost:8080/"
        },
        "outputId": "68b8139d-2c61-42d5-edc3-e6f93b104b94"
      },
      "execution_count": 27,
      "outputs": [
        {
          "output_type": "stream",
          "name": "stdout",
          "text": [
            "\u001b[?25l\u001b[32m⠋\u001b[0m Checking graph\n",
            "Adding...:   0% 0/1 [00:00<?, ?file/s{'info': ''}]\n",
            "!\u001b[A\n",
            "          |0.00 [00:00,     ?file/s]\u001b[A\n",
            "                                    \u001b[A\n",
            "!\u001b[A\n",
            "  0% |          |0/? [00:00<?,    ?files/s]\u001b[A\n",
            "                                           \u001b[A\n",
            "Checking out /content/data.csv:   0% 0/1 [00:00<?, ?files/s]\u001b[A\n",
            "Checking out /content/data.csv:   0% 0/1 [00:00<?, ?files/s{'info': ''}]\u001b[A\n",
            "Adding...: 100% 1/1 [00:00<00:00, 24.89file/s{'info': ''}]\n",
            "\n",
            "To track the changes with git, run:\n",
            "\n",
            "\tgit add data.csv.dvc\n",
            "\n",
            "To enable auto staging, run:\n",
            "\n",
            "\tdvc config core.autostage true\n",
            "\u001b[0mAuthor identity unknown\n",
            "\n",
            "*** Please tell me who you are.\n",
            "\n",
            "Run\n",
            "\n",
            "  git config --global user.email \"you@example.com\"\n",
            "  git config --global user.name \"Your Name\"\n",
            "\n",
            "to set your account's default identity.\n",
            "Omit --global to set the identity only in this repository.\n",
            "\n",
            "fatal: unable to auto-detect email address (got 'root@e99d0023c5de.(none)')\n",
            "Collecting          |1.00 [00:00, 76.6entry/s]\n",
            "Pushing\n",
            "!\u001b[A\n",
            "  0% |          |0/? [00:00<?,    ?files/s]\u001b[A\n",
            "Pushing\n",
            "Everything is up to date.\n",
            "\u001b[0m"
          ]
        }
      ]
    }
  ]
}