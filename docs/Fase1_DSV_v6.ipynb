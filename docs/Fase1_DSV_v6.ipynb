{
  "cells": [
    {
      "cell_type": "markdown",
      "metadata": {
        "colab_type": "text",
        "id": "view-in-github"
      },
      "source": [
        "<a href=\"https://colab.research.google.com/github/camperro13/Fase_1/blob/JonathanPuga/Fase1_DSV_v6.ipynb\" target=\"_parent\"><img src=\"https://colab.research.google.com/assets/colab-badge.svg\" alt=\"Open In Colab\"/></a>"
      ]
    },
    {
      "cell_type": "markdown",
      "metadata": {
        "id": "iPE6ebSuJ4mU"
      },
      "source": [
        "#Instalacion de Librerias\n",
        "Agregar a instalacion general de librerias"
      ]
    },
    {
      "cell_type": "code",
      "execution_count": 1,
      "metadata": {
        "id": "g4x0YBp_FmpL"
      },
      "outputs": [],
      "source": [
        "import pandas as pd"
      ]
    },
    {
      "cell_type": "markdown",
      "metadata": {
        "id": "n6WkR6XbKDzV"
      },
      "source": [
        "# Obtencion de datos\n",
        "Esta parte se puede omitir cuando el codigo ya tiene los datos, en este caso los datos se tendran que guardar en la dataframe llamada \"Data\""
      ]
    },
    {
      "cell_type": "code",
      "execution_count": 17,
      "metadata": {
        "colab": {
          "base_uri": "https://localhost:8080/"
        },
        "id": "ZJKPu1y4GZNI",
        "outputId": "46766073-84f3-48d4-cc4a-7b871995889e"
      },
      "outputs": [
        {
          "name": "stdout",
          "output_type": "stream",
          "text": [
            "Drive already mounted at /content/drive; to attempt to forcibly remount, call drive.mount(\"/content/drive\", force_remount=True).\n"
          ]
        }
      ],
      "source": [
        "from google.colab import drive\n",
        "drive.mount('/content/drive')"
      ]
    },
    {
      "cell_type": "code",
      "execution_count": 2,
      "metadata": {
        "id": "O9imvrMLGNKC"
      },
      "outputs": [],
      "source": [
        "\n",
        "data = pd.read_excel('/Users/juancarloscamperovilla/Documents/GitHub/MLOps/Residencial_build/Fase_1/data/raw/Residential-Building-Data-Set.xlsx')"
      ]
    },
    {
      "cell_type": "markdown",
      "metadata": {
        "id": "jv0kgXHmKXyR"
      },
      "source": [
        "# Class Inicializacion de DVC (Solo se hace una vez)"
      ]
    },
    {
      "cell_type": "code",
      "execution_count": 3,
      "metadata": {
        "colab": {
          "base_uri": "https://localhost:8080/"
        },
        "id": "Km-3vXhtGEDi",
        "outputId": "795fedb6-a879-4fa9-bb0c-c20a1e7a0737"
      },
      "outputs": [
        {
          "name": "stdout",
          "output_type": "stream",
          "text": [
            "Reinitialized existing Git repository in /Users/juancarloscamperovilla/Documents/GitHub/MLOps/Residencial_build/Fase_1/.git/\n"
          ]
        }
      ],
      "source": [
        "# Save it as a CSV file\n",
        "data.to_csv('data.csv', index=False)\n",
        "\n",
        "# Initialize a Git repository\n",
        "!git init\n"
      ]
    },
    {
      "cell_type": "code",
      "execution_count": 4,
      "metadata": {
        "colab": {
          "base_uri": "https://localhost:8080/"
        },
        "id": "Rvq261zuHUGI",
        "outputId": "3ffd0ac9-7191-471c-fc5e-cc79c4aad615"
      },
      "outputs": [
        {
          "name": "stdout",
          "output_type": "stream",
          "text": [
            "Initialized DVC repository.\n",
            "\n",
            "You can now commit the changes to git.\n",
            "\n",
            "\u001b[31m+---------------------------------------------------------------------+\n",
            "\u001b[0m\u001b[31m|\u001b[0m                                                                     \u001b[31m|\u001b[0m\n",
            "\u001b[31m|\u001b[0m        DVC has enabled anonymous aggregate usage analytics.         \u001b[31m|\u001b[0m\n",
            "\u001b[31m|\u001b[0m     Read the analytics documentation (and how to opt-out) here:     \u001b[31m|\u001b[0m\n",
            "\u001b[31m|\u001b[0m             <\u001b[36mhttps://dvc.org/doc/user-guide/analytics\u001b[39m>              \u001b[31m|\u001b[0m\n",
            "\u001b[31m|\u001b[0m                                                                     \u001b[31m|\u001b[0m\n",
            "\u001b[31m+---------------------------------------------------------------------+\n",
            "\u001b[0m\n",
            "\u001b[33mWhat's next?\u001b[39m\n",
            "\u001b[33m------------\u001b[39m\n",
            "- Check out the documentation: <\u001b[36mhttps://dvc.org/doc\u001b[39m>\n",
            "- Get help and share ideas: <\u001b[36mhttps://dvc.org/chat\u001b[39m>\n",
            "- Star us on GitHub: <\u001b[36mhttps://github.com/iterative/dvc\u001b[39m>\n",
            "\u001b[0m"
          ]
        }
      ],
      "source": [
        "!dvc init -f"
      ]
    },
    {
      "cell_type": "code",
      "execution_count": 5,
      "metadata": {
        "colab": {
          "base_uri": "https://localhost:8080/"
        },
        "id": "1870wxM2HG6J",
        "outputId": "41d112ea-d43b-4978-91b9-b342757f7b6c"
      },
      "outputs": [
        {
          "name": "stdout",
          "output_type": "stream",
          "text": [
            "\u001b[?25l\u001b[32m⠋\u001b[0m Checking graph                                       core\u001b[39m>\n",
            "Adding...                                                                       \n",
            "!\u001b[A\n",
            "Collecting files and computing hashes in data.csv     |0.00 [00:00,     ?file/s]\u001b[A\n",
            "                                                                                \u001b[A\n",
            "!\u001b[A\n",
            "  0% Checking cache in '/Users/juancarloscamperovilla/Documents/GitHub/MLOps/Res\u001b[A\n",
            "                                                                                \u001b[A\n",
            "!\u001b[A\n",
            "  0%|          |Adding data.csv to cache              0/1 [00:00<?,     ?file/s]\u001b[A\n",
            "                                                                                \u001b[A\n",
            "!\u001b[A\n",
            "  0%|          |Checking out /Users/juancarloscamperov0/1 [00:00<?,    ?files/s]\u001b[A\n",
            "100% Adding...|████████████████████████████████████████|1/1 [00:00, 19.10file/s]\u001b[A\n",
            "\n",
            "To track the changes with git, run:\n",
            "\n",
            "\tgit add .gitignore data.csv.dvc\n",
            "\n",
            "To enable auto staging, run:\n",
            "\n",
            "\tdvc config core.autostage true\n",
            "\u001b[0m[main 429604b] Add data with DVC\n",
            " 5 files changed, 12 insertions(+)\n",
            " create mode 100644 .dvc/.gitignore\n",
            " create mode 100644 .dvc/config\n",
            " create mode 100644 .dvcignore\n",
            " create mode 100644 .gitignore\n",
            " create mode 100644 data.csv.dvc\n"
          ]
        }
      ],
      "source": [
        "!dvc add data.csv\n",
        "!git add data.csv.dvc .gitignore\n",
        "!git commit -m \"Add data with DVC\""
      ]
    },
    {
      "cell_type": "code",
      "execution_count": 6,
      "metadata": {
        "colab": {
          "base_uri": "https://localhost:8080/"
        },
        "id": "fdnUMmkNHoRf",
        "outputId": "e472afef-f595-4401-91c3-0a060feb084a"
      },
      "outputs": [
        {
          "name": "stdout",
          "output_type": "stream",
          "text": [
            "Setting 'local_remote' as a default remote.\n",
            "\u001b[0m[main d46151a] Set up local directory as remote storage\n",
            " 1 file changed, 4 insertions(+)\n"
          ]
        }
      ],
      "source": [
        "# Create a directory that will act as the local remote storage\n",
        "!mkdir -p ./data/processed/local_dvc_storage\n",
        "\n",
        "# Configure DVC to use this directory as the remote storage\n",
        "!dvc remote add -d local_remote ./data/processed/local_dvc_storage\n",
        "\n",
        "# Commit the remote storage configuration to Git\n",
        "!git add .dvc/config\n",
        "!git commit -m \"Set up local directory as remote storage\"\n"
      ]
    },
    {
      "cell_type": "code",
      "execution_count": 7,
      "metadata": {
        "colab": {
          "base_uri": "https://localhost:8080/"
        },
        "id": "akNNGWw5JpOx",
        "outputId": "65d9e348-b569-4e42-f8cb-b725419d1069"
      },
      "outputs": [
        {
          "name": "stdout",
          "output_type": "stream",
          "text": [
            "Collecting                                            |1.00 [00:00,  725entry/s]\n",
            "Pushing\n",
            "!\u001b[A\n",
            "  0% Checking cache in '/Users/juancarloscamperovilla/Documents/GitHub/MLOps/Res\u001b[A\n",
            "                                                                                \u001b[A\n",
            "!\u001b[A\n",
            "  0% Checking cache in '/Users/juancarloscamperovilla/Documents/GitHub/MLOps/Res\u001b[A\n",
            "                                                                                \u001b[A\n",
            "!\u001b[A\n",
            "  0%|          |Pushing to local                      0/1 [00:00<?,     ?file/s]\u001b[A\n",
            "Pushing                                                                         \u001b[A\n",
            "1 file pushed\n",
            "\u001b[0m"
          ]
        }
      ],
      "source": [
        "!dvc push\n"
      ]
    },
    {
      "cell_type": "markdown",
      "metadata": {
        "id": "KdBtbMT7LEQd"
      },
      "source": [
        "# Class Extraer data"
      ]
    },
    {
      "cell_type": "code",
      "execution_count": 8,
      "metadata": {
        "colab": {
          "base_uri": "https://localhost:8080/"
        },
        "id": "smBtY9PjJtHk",
        "outputId": "2272715b-7233-40d0-8176-60ed7a3a507b"
      },
      "outputs": [
        {
          "name": "stdout",
          "output_type": "stream",
          "text": [
            "Collecting                                            |1.00 [00:00,  729entry/s]\n",
            "Fetching\n",
            "!\u001b[A\n",
            "  0% Checking cache in '/Users/juancarloscamperovilla/Documents/GitHub/MLOps/Res\u001b[A\n",
            "                                                                                \u001b[A\n",
            "!\u001b[A\n",
            "  0% Checking cache in '/Users/juancarloscamperovilla/Documents/GitHub/MLOps/Res\u001b[A\n",
            "                                                                                \u001b[A\n",
            "!\u001b[A\n",
            "  0%|          |Fetching from local                   0/1 [00:00<?,     ?file/s]\u001b[A\n",
            "Fetching                                                                        \u001b[A\n",
            "Building workspace index                              |0.00 [00:00,    ?entry/s]\n",
            "Comparing indexes                                    |2.00 [00:00, 4.30kentry/s]\n",
            "Applying changes                                      |1.00 [00:00, 1.64kfile/s]\n",
            "\u001b[32mA\u001b[0m       data.csv\n",
            "1 file added and 1 file fetched\n",
            "\u001b[0m"
          ]
        }
      ],
      "source": [
        "# Remove the dataset and DVC cache\n",
        "!rm -rf data.csv\n",
        "!rm -rf .dvc/cache\n",
        "\n",
        "# Pull the data back from the local remote storage\n",
        "!dvc pull\n"
      ]
    },
    {
      "cell_type": "markdown",
      "metadata": {
        "id": "MjvuOBP2LMFA"
      },
      "source": [
        "# Class Enviar data"
      ]
    },
    {
      "cell_type": "code",
      "execution_count": 9,
      "metadata": {
        "colab": {
          "base_uri": "https://localhost:8080/"
        },
        "id": "3keR6mNTJykI",
        "outputId": "68b8139d-2c61-42d5-edc3-e6f93b104b94"
      },
      "outputs": [
        {
          "name": "stdout",
          "output_type": "stream",
          "text": [
            "\u001b[?25l\u001b[32m⠋\u001b[0m Checking graph                                       core\u001b[39m>\n",
            "Adding...                                                                       \n",
            "!\u001b[A\n",
            "Collecting files and computing hashes in data.csv     |0.00 [00:00,     ?file/s]\u001b[A\n",
            "                                                                                \u001b[A\n",
            "!\u001b[A\n",
            "  0% Checking cache in '/Users/juancarloscamperovilla/Documents/GitHub/MLOps/Res\u001b[A\n",
            "                                                                                \u001b[A\n",
            "!\u001b[A\n",
            "  0%|          |Checking out /Users/juancarloscamperov0/1 [00:00<?,    ?files/s]\u001b[A\n",
            "100% Adding...|███████████████████████████████████████|1/1 [00:00, 116.66file/s]\u001b[A\n",
            "\n",
            "To track the changes with git, run:\n",
            "\n",
            "\tgit add data.csv.dvc\n",
            "\n",
            "To enable auto staging, run:\n",
            "\n",
            "\tdvc config core.autostage true\n",
            "\u001b[0mOn branch main\n",
            "Your branch is ahead of 'origin/main' by 2 commits.\n",
            "  (use \"git push\" to publish your local commits)\n",
            "\n",
            "Changes not staged for commit:\n",
            "  (use \"git add <file>...\" to update what will be committed)\n",
            "  (use \"git restore <file>...\" to discard changes in working directory)\n",
            "\t\u001b[31mmodified:   README.md\u001b[m\n",
            "\t\u001b[31mmodified:   notebooks/Residencial_build.ipynb\u001b[m\n",
            "\t\u001b[31mmodified:   notebooks/Residencial_build_Refactored_V1.ipynb\u001b[m\n",
            "\t\u001b[31mmodified:   notebooks/Residencial_build_Refactored_V2.ipynb\u001b[m\n",
            "\n",
            "Untracked files:\n",
            "  (use \"git add <file>...\" to include in what will be committed)\n",
            "\t\u001b[31mFase1_DSV_v6.ipynb\u001b[m\n",
            "\t\u001b[31mFase_1_Avance_Equipo_8.ipynb\u001b[m\n",
            "\t\u001b[31mlocal_dvc_storage/\u001b[m\n",
            "\n",
            "no changes added to commit (use \"git add\" and/or \"git commit -a\")\n",
            "Collecting                                            |1.00 [00:00,  691entry/s]\n",
            "Pushing\n",
            "!\u001b[A\n",
            "  0% Checking cache in '/Users/juancarloscamperovilla/Documents/GitHub/MLOps/Res\u001b[A\n",
            "Pushing                                                                         \u001b[A\n",
            "Everything is up to date.\n",
            "\u001b[0m"
          ]
        }
      ],
      "source": [
        "!dvc add data.csv\n",
        "!git add data.csv.dvc\n",
        "!git commit -m \"Modify Residencial_build dataset\"\n",
        "!dvc push\n"
      ]
    }
  ],
  "metadata": {
    "colab": {
      "authorship_tag": "ABX9TyOFjDj+Lt696XhxOD8w4x6s",
      "include_colab_link": true,
      "provenance": []
    },
    "kernelspec": {
      "display_name": "Python 3",
      "name": "python3"
    },
    "language_info": {
      "codemirror_mode": {
        "name": "ipython",
        "version": 3
      },
      "file_extension": ".py",
      "mimetype": "text/x-python",
      "name": "python",
      "nbconvert_exporter": "python",
      "pygments_lexer": "ipython3",
      "version": "3.12.4"
    }
  },
  "nbformat": 4,
  "nbformat_minor": 0
}
